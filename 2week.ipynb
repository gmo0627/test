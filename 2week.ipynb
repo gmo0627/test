{
 "cells": [
  {
   "cell_type": "code",
   "execution_count": 1,
   "id": "3abf5474",
   "metadata": {},
   "outputs": [
    {
     "name": "stdout",
     "output_type": "stream",
     "text": [
      "100\n",
      "100\n",
      "100\n",
      "50+50\n"
     ]
    }
   ],
   "source": [
    "#1. 정답 4번\n",
    "print(\"100\")\n",
    "print(100)\n",
    "print(50+50)\n",
    "print(\"50+50\")"
   ]
  },
  {
   "cell_type": "code",
   "execution_count": 3,
   "id": "9c630a63",
   "metadata": {},
   "outputs": [
    {
     "name": "stdout",
     "output_type": "stream",
     "text": [
      "5 / 10 = 0\n"
     ]
    }
   ],
   "source": [
    "#2. 정갑 3번\n",
    "print('%d / %d = %d'%(5,10,5/10))"
   ]
  },
  {
   "cell_type": "code",
   "execution_count": 4,
   "id": "1f5689c9",
   "metadata": {},
   "outputs": [
    {
     "name": "stdout",
     "output_type": "stream",
     "text": [
      "0876\n",
      "CookBook\n",
      "123.5\n"
     ]
    }
   ],
   "source": [
    "#3.(1)\n",
    "print(\"%04d\"%876)\n",
    "#3.(2)\n",
    "print(\"%5s\"%\"CookBook\")\n",
    "#3.(3)\n",
    "print(\"%1.1f\"%123.45)"
   ]
  },
  {
   "cell_type": "code",
   "execution_count": 6,
   "id": "a2b01eff",
   "metadata": {},
   "outputs": [
    {
     "name": "stdout",
     "output_type": "stream",
     "text": [
      "333 111 222\n"
     ]
    }
   ],
   "source": [
    "#4. 정답 3번\n",
    "print(\"{2:d} {0:d} {1:d}\".format(111,222,333))\n"
   ]
  },
  {
   "cell_type": "code",
   "execution_count": 10,
   "id": "7d86123a",
   "metadata": {},
   "outputs": [
    {
     "name": "stdout",
     "output_type": "stream",
     "text": [
      "11\n",
      "22\n"
     ]
    }
   ],
   "source": [
    "#11.(1) 1011(2진수)\n",
    "print(int('1011', 2))\n",
    "#11.(2) 1A(12진수)\n",
    "print(int('1A', 12))\n"
   ]
  },
  {
   "cell_type": "code",
   "execution_count": 15,
   "id": "a69f1512",
   "metadata": {},
   "outputs": [
    {
     "name": "stdout",
     "output_type": "stream",
     "text": [
      "(1) 2진수는 0과 1로 표시되어야 하지만 2가 있기 때문에 오류 발생\n",
      "(2) 8진수는 0~7로 표시되어야 하지만 8이 있기 떄문에 오류 발생\n",
      "(3) 16진수는 0~9와 ABCDEF로 표시되어야 하지ㅁ만 G가 있기 떄문에 오류 발생\n"
     ]
    }
   ],
   "source": [
    "#13.(1)\n",
    "print(\"(1) 2진수는 0과 1로 표시되어야 하지만 2가 있기 때문에 오류 발생\")\n",
    "#13.(2)\n",
    "print(\"(2) 8진수는 0~7로 표시되어야 하지만 8이 있기 떄문에 오류 발생\")\n",
    "#13.(3)\n",
    "print(\"(3) 16진수는 0~9와 ABCDEF로 표시되어야 하지ㅁ만 G가 있기 떄문에 오류 발생\")\n"
   ]
  },
  {
   "cell_type": "code",
   "execution_count": 20,
   "id": "3beaa0c6",
   "metadata": {},
   "outputs": [
    {
     "name": "stdout",
     "output_type": "stream",
     "text": [
      "10진수 ==>  12345678\n",
      "16진수 ==>  0xbc614e\n",
      "8진수 ==>  0o57060516\n",
      "2진수 ==>  0b101111000110000101001110\n"
     ]
    }
   ],
   "source": [
    "#15\n",
    "num= 12345678\n",
    "hex_num = hex(num)\n",
    "oct_num = oct(num)\n",
    "bin_num = bin(num)\n",
    "\n",
    "print(\"10진수 ==> \", num)\n",
    "print(\"16진수 ==> \", hex_num)\n",
    "print(\"8진수 ==> \", oct_num)\n",
    "print(\"2진수 ==> \", bin_num)"
   ]
  }
 ],
 "metadata": {
  "kernelspec": {
   "display_name": "Python 3 (ipykernel)",
   "language": "python",
   "name": "python3"
  },
  "language_info": {
   "codemirror_mode": {
    "name": "ipython",
    "version": 3
   },
   "file_extension": ".py",
   "mimetype": "text/x-python",
   "name": "python",
   "nbconvert_exporter": "python",
   "pygments_lexer": "ipython3",
   "version": "3.11.4"
  }
 },
 "nbformat": 4,
 "nbformat_minor": 5
}
