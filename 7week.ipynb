{
 "cells": [
  {
   "cell_type": "markdown",
   "id": "897bc9ea",
   "metadata": {},
   "source": [
    "# 2 다음은 자동차를 클래스로 만든 코드입니다. 메소드에서 틀린 부분 2곳을 찾아서 맞게 고치세요."
   ]
  },
  {
   "cell_type": "code",
   "execution_count": 1,
   "id": "75fd1fa2",
   "metadata": {},
   "outputs": [],
   "source": [
    "class Car: \n",
    "    color = \"\" \n",
    "    speed = 0 \n",
    "    \n",
    "    def upSpeed(self, value): \n",
    "        self.speed += value "
   ]
  },
  {
   "cell_type": "markdown",
   "id": "7d8ed105",
   "metadata": {},
   "source": [
    "# 4 속도를 50으로 초기화하는 클래스의 생성자 코드입니다. 빈칸을 채우세요."
   ]
  },
  {
   "cell_type": "code",
   "execution_count": null,
   "id": "9afaf6fb",
   "metadata": {},
   "outputs": [],
   "source": [
    "class Horse: \n",
    "    speed = 0 \n",
    "\n",
    "    def __init__(self):\n",
    "        self.speed = 50\n",
    "        \n",
    "        \n",
    "horse = Horse()\n"
   ]
  },
  {
   "cell_type": "markdown",
   "id": "d6a70255",
   "metadata": {},
   "source": [
    "# 6 다음은 클래스의 상속과 관련된 코드입니다. 코드의 실행 결과를 고르세요.\n",
    "\n",
    "# 정답 : 3번"
   ]
  },
  {
   "cell_type": "code",
   "execution_count": 2,
   "id": "c7c505f2",
   "metadata": {},
   "outputs": [
    {
     "name": "stdout",
     "output_type": "stream",
     "text": [
      "슈퍼 클래스\n",
      "서브 클래스\n"
     ]
    }
   ],
   "source": [
    "class Car: \n",
    "    def method(self): # Car라는 객체에 def 함수 추가\n",
    "        print(\"슈퍼 클래스\")\n",
    "        \n",
    "class Sedan(Car):\n",
    "    def method(self): # Sedan이라는 객체에 def 추가\n",
    "        print(\"서브 클래스\")\n",
    "        \n",
    "myCar = Car() # myCar라는 변수에 Car(슈퍼 클래스)\n",
    "mySedan = Sedan() # mySedan이라는 변수에 Sedan(서브 클래스)\n",
    "myCar.method()\n",
    "mySedan.method()"
   ]
  },
  {
   "cell_type": "markdown",
   "id": "2fc0de07",
   "metadata": {},
   "source": [
    "# 7 Car의 상속을 받는 RVCar 클래스를 정의하는 코드입니다. 빈칸을 채우세요.\n"
   ]
  },
  {
   "cell_type": "code",
   "execution_count": 3,
   "id": "3a3444e1",
   "metadata": {},
   "outputs": [],
   "source": [
    "class Car:\n",
    "    speed = 0\n",
    "    \n",
    "    def upSpeed(self,value):\n",
    "        self.speed = self.speed + value\n",
    "\n",
    "class RVCar(Car):\n",
    "    seatNum = 0\n",
    "\n",
    "    def getSeatNum(self):\n",
    "        return self.seatNum"
   ]
  }
 ],
 "metadata": {
  "kernelspec": {
   "display_name": "Python 3 (ipykernel)",
   "language": "python",
   "name": "python3"
  },
  "language_info": {
   "codemirror_mode": {
    "name": "ipython",
    "version": 3
   },
   "file_extension": ".py",
   "mimetype": "text/x-python",
   "name": "python",
   "nbconvert_exporter": "python",
   "pygments_lexer": "ipython3",
   "version": "3.11.4"
  }
 },
 "nbformat": 4,
 "nbformat_minor": 5
}
