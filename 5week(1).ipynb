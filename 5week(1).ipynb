{
 "cells": [
  {
   "cell_type": "code",
   "execution_count": 47,
   "id": "221a77ed",
   "metadata": {},
   "outputs": [],
   "source": [
    "#3.다음은 라디오 버튼 중 어떤 것을 클릭했는지 알려주는 코드입니다. 빈 부분에 들어갈 내용을 채우세요.\n",
    "\n",
    "from tkinter import*\n",
    "\n",
    "window = Tk()\n",
    "\n",
    "def rdo_change() :\n",
    "    if var.get()  == 1 :\n",
    "        label1.configure(text = \"벤츠\")\n",
    "    else :\n",
    "        label1.configure(text = \"포르쉐\")\n",
    "        \n",
    "var = IntVar()\n",
    "rdo1 = Radiobutton(window, text = \"벤츠\",variable = var,value = 1,command=rdo_change)\n",
    "rdo2 = Radiobutton(window, text = \"포르쉐\",variable = var,value = 2,command=rdo_change)\n",
    "label1=Label(window, text=\"선택한 차량\", fg=\"red\")\n",
    "\n",
    "rdo1.pack()\n",
    "rdo2.pack()\n",
    "label1.pack()\n",
    "\n",
    "window.mainloop()\n"
   ]
  },
  {
   "cell_type": "code",
   "execution_count": 52,
   "id": "b21a9852",
   "metadata": {},
   "outputs": [],
   "source": [
    "#4-(1)코드를 실행하면 다음 각 항에 해당하는 결과가 나오기 위해서 빈 곳에 무엇을 채워야 할지 쓰세요.\n",
    "#(빈 칸 3곳이 모두 동일한 내용임)\n",
    "\n",
    "from tkinter import*\n",
    "window=Tk()\n",
    "\n",
    "button1 = Button(window, text = \"버튼1\")\n",
    "button2 = Button(window, text = \"버튼2\")\n",
    "button3 = Button(window, text = \"버튼3\")\n",
    "\n",
    "button1.pack(side = \"left\")\n",
    "button2.pack(side = \"left\")\n",
    "button3.pack(side = \"left\")\n"
   ]
  },
  {
   "cell_type": "code",
   "execution_count": 42,
   "id": "2c6d4898",
   "metadata": {},
   "outputs": [],
   "source": [
    "#4-(2)코드를 실행하면 다음 각 항에 해당하는 결과가 나오기 위해서 빈 곳에 무엇을 채워야 할지 쓰세요.\n",
    "#(빈 칸 3곳이 모두 동일한 내용임)\n",
    "\n",
    "from tkinter import*\n",
    "window=Tk()\n",
    "\n",
    "button1 = Button(window, text = \"버튼1\")\n",
    "button2 = Button(window, text = \"버튼2\")\n",
    "button3 = Button(window, text = \"버튼3\")\n",
    "\n",
    "button1.pack(side = \"right\")\n",
    "button2.pack(side = \"right\")\n",
    "button3.pack(side = \"right\")\n"
   ]
  },
  {
   "cell_type": "code",
   "execution_count": 43,
   "id": "cc7d2381",
   "metadata": {},
   "outputs": [],
   "source": [
    "#4-(3)코드를 실행하면 다음 각 항에 해당하는 결과가 나오기 위해서 빈 곳에 무엇을 채워야 할지 쓰세요.\n",
    "#(빈 칸 3곳이 모두 동일한 내용임)\n",
    "\n",
    "from tkinter import*\n",
    "window=Tk()\n",
    "\n",
    "button1 = Button(window, text = \"버튼1\")\n",
    "button2 = Button(window, text = \"버튼2\")\n",
    "button3 = Button(window, text = \"버튼3\")\n",
    "\n",
    "button1.pack(side = \"top\")\n",
    "button2.pack(side = \"top\")\n",
    "button3.pack(side = \"top\")\n"
   ]
  },
  {
   "cell_type": "code",
   "execution_count": 44,
   "id": "3e984945",
   "metadata": {},
   "outputs": [],
   "source": [
    "#4-(4)코드를 실행하면 다음 각 항에 해당하는 결과가 나오기 위해서 빈 곳에 무엇을 채워야 할지 쓰세요.\n",
    "#(빈 칸 3곳이 모두 동일한 내용임)\n",
    "\n",
    "from tkinter import*\n",
    "window=Tk()\n",
    "\n",
    "button1 = Button(window, text = \"버튼1\")\n",
    "button2 = Button(window, text = \"버튼2\")\n",
    "button3 = Button(window, text = \"버튼3\")\n",
    "\n",
    "button1.pack(side = \"bottom\")\n",
    "button2.pack(side = \"bottom\")\n",
    "button3.pack(side = \"bottom\")\n"
   ]
  },
  {
   "cell_type": "code",
   "execution_count": 45,
   "id": "7361bf3b",
   "metadata": {},
   "outputs": [],
   "source": [
    "#5.다음은 <이전>,<다음> 버튼을 클릭하면 배열(9개 문자열)의 내용으로 글자가 바뀌는 코드입니다. 빈부분을 채우세요.\n",
    "#단, 마지막 글자에서 <다음>을 클릭하면 다시 첫 번째 글자가, 첫번째 글자에서 <이전>을 클릭하면 마지막 글자가 나오도록 하세요.\n",
    "\n",
    "from tkinter import*\n",
    "\n",
    "fnameList = [\"jeju1.gif\",\"jeju2.gif\",\"jeju3.gif\",\"jeju4.gif\",\"jeju5.gif\",\"jeju6.gif\",\"jeju7.gif\",\"jeju8.gif\",\"jeju9.gif\"]\n",
    "\n",
    "num = 0\n",
    "\n",
    "def clickNext() :\n",
    "    global num\n",
    "    num += 1\n",
    "    if num > 8 :\n",
    "        num = 0\n",
    "    \n",
    "    pLabel.configure(text=fnameList[num])\n",
    "    \n",
    "def clickPrev() :\n",
    "    global num\n",
    "    num -= 1\n",
    "    if num < 0 :\n",
    "        num = 8\n",
    "    \n",
    "    pLabel.configure(text=fnameList[num])\n",
    "\n",
    "\n",
    "    \n",
    "        "
   ]
  },
  {
   "cell_type": "code",
   "execution_count": null,
   "id": "38661b10",
   "metadata": {},
   "outputs": [],
   "source": []
  }
 ],
 "metadata": {
  "kernelspec": {
   "display_name": "Python 3 (ipykernel)",
   "language": "python",
   "name": "python3"
  },
  "language_info": {
   "codemirror_mode": {
    "name": "ipython",
    "version": 3
   },
   "file_extension": ".py",
   "mimetype": "text/x-python",
   "name": "python",
   "nbconvert_exporter": "python",
   "pygments_lexer": "ipython3",
   "version": "3.11.4"
  }
 },
 "nbformat": 4,
 "nbformat_minor": 5
}
