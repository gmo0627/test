{
 "cells": [
  {
   "cell_type": "code",
   "execution_count": 1,
   "id": "2524ea00",
   "metadata": {},
   "outputs": [
    {
     "name": "stdout",
     "output_type": "stream",
     "text": [
      "600\n"
     ]
    }
   ],
   "source": [
    "#3번\n",
    "\n",
    "def plus(v1, v2, v3):\n",
    "    result = 0\n",
    "    result = v1 + v2 + v3\n",
    "    return result\n",
    "\n",
    "hap = plus(100, 200, 300)\n",
    "print(hap)\n"
   ]
  },
  {
   "cell_type": "code",
   "execution_count": 2,
   "id": "c27f8880",
   "metadata": {},
   "outputs": [
    {
     "name": "stdout",
     "output_type": "stream",
     "text": [
      "100\n",
      "10\n"
     ]
    }
   ],
   "source": [
    "#4번\n",
    "\n",
    "def f1() : \n",
    "    print(var)\n",
    "\n",
    "def f2() :\n",
    "    var = 10\n",
    "    print(var)\n",
    "    \n",
    "var = 100\n",
    "f1()\n",
    "f2()"
   ]
  },
  {
   "cell_type": "code",
   "execution_count": 3,
   "id": "e1e0cc3f",
   "metadata": {},
   "outputs": [
    {
     "name": "stdout",
     "output_type": "stream",
     "text": [
      "5050\n"
     ]
    }
   ],
   "source": [
    "#11번\n",
    "\n",
    "def addNumber(num):\n",
    "    if num == 1:\n",
    "        return 1\n",
    "    else:\n",
    "        return num + addNumber(num - 1)\n",
    "\n",
    "print(addNumber(100))\n"
   ]
  },
  {
   "cell_type": "code",
   "execution_count": 4,
   "id": "c93f05a7",
   "metadata": {},
   "outputs": [
    {
     "name": "stdout",
     "output_type": "stream",
     "text": [
      "매개변수 없이 호출 ==>  6\n",
      "매개변수가 1개로 호출 ==>  6\n",
      "매개변수가 2개로 호출 ==>  6\n",
      "매개변수가 3개로 호출 ==>  6\n"
     ]
    }
   ],
   "source": [
    "#8번\n",
    "\n",
    "def myFunc(p1=1, p2=2, p3=3):\n",
    "    ret = p1 + p2 + p3\n",
    "    return ret\n",
    "\n",
    "print(\"매개변수 없이 호출 ==> \", myFunc())\n",
    "print(\"매개변수가 1개로 호출 ==> \", myFunc(1))\n",
    "print(\"매개변수가 2개로 호출 ==> \", myFunc(1, 2))\n",
    "print(\"매개변수가 3개로 호출 ==> \", myFunc(1, 2, 3))"
   ]
  }
 ],
 "metadata": {
  "kernelspec": {
   "display_name": "Python 3 (ipykernel)",
   "language": "python",
   "name": "python3"
  },
  "language_info": {
   "codemirror_mode": {
    "name": "ipython",
    "version": 3
   },
   "file_extension": ".py",
   "mimetype": "text/x-python",
   "name": "python",
   "nbconvert_exporter": "python",
   "pygments_lexer": "ipython3",
   "version": "3.11.4"
  }
 },
 "nbformat": 4,
 "nbformat_minor": 5
}
