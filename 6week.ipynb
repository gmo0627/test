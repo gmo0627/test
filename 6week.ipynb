{
 "cells": [
  {
   "attachments": {},
   "cell_type": "markdown",
   "id": "d86623b5",
   "metadata": {},
   "source": [
    "# 1 다음 보기를 입력과 관련된 함수와 출력된 관련된 함수로 분류하세요.\n",
    "\n"
   ]
  },
  {
   "cell_type": "markdown",
   "id": "00f41201",
   "metadata": {},
   "source": [
    "-입력 함수:\n",
    "        input()    read()     readline()    readlines()\n"
   ]
  },
  {
   "cell_type": "markdown",
   "id": "89655de0",
   "metadata": {},
   "source": [
    "-출력 함수:\n",
    "        print()    write()    writeline()"
   ]
  },
  {
   "cell_type": "markdown",
   "id": "48805d33",
   "metadata": {},
   "source": [
    "# 2 다음은 파일의 처리단계입니다. 순서대로 나열한 것이 맞는 것을 고르세요.\n",
    "\n",
    "1번 A->C->B->D\n"
   ]
  },
  {
   "cell_type": "markdown",
   "id": "fb10bcad",
   "metadata": {},
   "source": [
    "# 3 파일의 열기 모드에 대한 설명입니다. 거리가 먼 것을 모두 고르세요.\n",
    "\n"
   ]
  },
  {
   "cell_type": "markdown",
   "id": "ad05cb3e",
   "metadata": {},
   "source": [
    "1 생략하면 쓰기 모드가 기본으로 설정된다."
   ]
  },
  {
   "cell_type": "markdown",
   "id": "2f07e1fc",
   "metadata": {},
   "source": [
    "3 a는 쓰기 모드이다. 기존 파일이 있으면 삭제하고 새로 만든다."
   ]
  },
  {
   "cell_type": "markdown",
   "id": "f6e7a83e",
   "metadata": {},
   "source": [
    "6 tb는 텍스트 파일 겸 이진 파일 모드 공용이다."
   ]
  },
  {
   "cell_type": "markdown",
   "id": "1003d9f3",
   "metadata": {},
   "source": [
    "# 4 다음은 data1.txt 파일에서 1개 행만 읽어서 출력하는 코드입니다. 빈칸을 채우세요.\n"
   ]
  },
  {
   "cell_type": "code",
   "execution_count": null,
   "id": "2664178d",
   "metadata": {},
   "outputs": [],
   "source": [
    "inFp = open(\"C:Temp/data1.txt\", \"r\")\n",
    "\n",
    "inStr = inFp.readline()\n",
    "print(inStr, end=\"\")\n",
    "\n",
    "inFp.close()"
   ]
  },
  {
   "cell_type": "markdown",
   "id": "75591462",
   "metadata": {},
   "source": [
    "# 6 다음은 파일을 복사하는 코드입니다. 빈칸을 채우세요.\n"
   ]
  },
  {
   "cell_type": "code",
   "execution_count": null,
   "id": "c36b7da7",
   "metadata": {},
   "outputs": [],
   "source": [
    "inFp = open(\"C:/windows/win.ini\", \"r\")\n",
    "outFp = open(\"C:Temp/data3.txt\", \"w\")\n",
    "\n",
    "inList = inFp.readlines()\n",
    "for inStr in inList:\n",
    "    outFp.write(inStr)\n",
    "\n",
    "inFp.close()\n",
    "outFp.close()"
   ]
  }
 ],
 "metadata": {
  "kernelspec": {
   "display_name": "Python 3 (ipykernel)",
   "language": "python",
   "name": "python3"
  },
  "language_info": {
   "codemirror_mode": {
    "name": "ipython",
    "version": 3
   },
   "file_extension": ".py",
   "mimetype": "text/x-python",
   "name": "python",
   "nbconvert_exporter": "python",
   "pygments_lexer": "ipython3",
   "version": "3.11.4"
  }
 },
 "nbformat": 4,
 "nbformat_minor": 5
}
