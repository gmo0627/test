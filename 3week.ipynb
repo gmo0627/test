{
 "cells": [
  {
   "cell_type": "code",
   "execution_count": 4,
   "id": "90a787df",
   "metadata": {},
   "outputs": [
    {
     "name": "stdout",
     "output_type": "stream",
     "text": [
      "점수를 입력하세요: 85\n",
      "합격입니다. ^^\n"
     ]
    }
   ],
   "source": [
    "#4번\n",
    "score = int(input(\"점수를 입력하세요: \"))\n",
    "\n",
    "if score >= 90:\n",
    "    print(\"장학생\", end='')\n",
    "elif score >= 60:\n",
    "    print(\"합격\", end='')\n",
    "else:\n",
    "    print(\"불합격\", end='')\n",
    "\n",
    "print(\"입니다. ^^\")"
   ]
  },
  {
   "cell_type": "code",
   "execution_count": 6,
   "id": "e01b59ac",
   "metadata": {},
   "outputs": [
    {
     "name": "stdout",
     "output_type": "stream",
     "text": [
      "홀수\n"
     ]
    }
   ],
   "source": [
    "#5번 정답 3번\n",
    "\n",
    "num = 5\n",
    "res = '짝수' if num % 2 == 0 else '홀수'\n",
    "print(res)"
   ]
  },
  {
   "cell_type": "code",
   "execution_count": 59,
   "id": "d59043da",
   "metadata": {},
   "outputs": [
    {
     "name": "stdout",
     "output_type": "stream",
     "text": [
      "6-(1) : [100, 777, 300, 400, 500]\n",
      "6-(2) : [100, [444, 555], 300, 400, 500]\n",
      "6-(3) : [100, 444, 555, 500]\n",
      "6-(4) : [100, 200]\n"
     ]
    }
   ],
   "source": [
    "#5,6번 ??\n",
    "\n",
    "nn = [ 100, 200, 300, 400, 500 ]\n",
    "nn[1] = 777\n",
    "print(\"6-(1) :\",nn)\n",
    "nn = [ 100, 200, 300, 400, 500 ]\n",
    "nn[1] = [444,555]\n",
    "print(\"6-(2) :\",nn)\n",
    "nn = [ 100, 200, 300, 400, 500 ]\n",
    "\n",
    "nn[1:4] = [444,555]\n",
    "print(\"6-(3) :\",nn)\n",
    "\n",
    "\n",
    "nn = [ 100, 200, 300, 400, 500 ]\n",
    "nn[2:] = []\n",
    "print(\"6-(4) :\",nn)"
   ]
  },
  {
   "cell_type": "code",
   "execution_count": 46,
   "id": "b83f3ddd",
   "metadata": {},
   "outputs": [
    {
     "name": "stdout",
     "output_type": "stream",
     "text": [
      "92550\n"
     ]
    }
   ],
   "source": [
    "#9번\n",
    "total = 0\n",
    "\n",
    "for num in range(3333, 99999):\n",
    "    if num % 1234 != 0:\n",
    "        continue\n",
    "   \n",
    "    if total+num >= 100000:\n",
    "        \n",
    "        break\n",
    "    total += num\n",
    "print(total)\n",
    "\n"
   ]
  },
  {
   "cell_type": "code",
   "execution_count": 48,
   "id": "c145e7c6",
   "metadata": {},
   "outputs": [
    {
     "name": "stdout",
     "output_type": "stream",
     "text": [
      "23088\n"
     ]
    }
   ],
   "source": [
    "#8번\n",
    "hap = 0\n",
    "n = 1234\n",
    "\n",
    "while n < 4568:\n",
    "    if n % 444 == 0:\n",
    "        hap += n\n",
    "    n += 1\n",
    "\n",
    "print(hap)\n"
   ]
  },
  {
   "cell_type": "code",
   "execution_count": 50,
   "id": "d2c9daaa",
   "metadata": {},
   "outputs": [
    {
     "name": "stdout",
     "output_type": "stream",
     "text": [
      "[[2, 4], [3, 6]]\n"
     ]
    }
   ],
   "source": [
    "#14번 [[2,4],[3,6]]\n",
    "myData = [[n*m for n in range(1,3)] for m in range(2,4)]\n",
    "print(myData)"
   ]
  },
  {
   "cell_type": "code",
   "execution_count": 61,
   "id": "47c27352",
   "metadata": {},
   "outputs": [
    {
     "name": "stdout",
     "output_type": "stream",
     "text": [
      "5-(1) : 500\n",
      "5-(2) : 500\n",
      "5-(3) : 400\n",
      "5-(4) : [200, 300, 400]\n",
      "5-(5) : [100]\n",
      "5-(6) : [300, 400]\n",
      "5-(7) : [100, 300, 500]\n",
      "5-(8) : [500, 400, 300, 200, 100]\n",
      "5-(9) : [500, 300, 100]\n"
     ]
    }
   ],
   "source": [
    "#5번\n",
    "nn = [ 100, 200, 300, 400, 500 ]\n",
    "\n",
    "print(\"5-(1) :\",nn[4])\n",
    "print(\"5-(2) :\",nn[-1])\n",
    "print(\"5-(3) :\",nn[-2])\n",
    "print(\"5-(4) :\",nn[1:4])\n",
    "print(\"5-(5) :\",nn[0:1])\n",
    "print(\"5-(6) :\",nn[2:-1])\n",
    "print(\"5-(7) :\",nn[0::2])\n",
    "print(\"5-(8) :\",nn[::-1])\n",
    "print(\"5-(9) :\",nn[::-2])\n"
   ]
  }
 ],
 "metadata": {
  "kernelspec": {
   "display_name": "Python 3 (ipykernel)",
   "language": "python",
   "name": "python3"
  },
  "language_info": {
   "codemirror_mode": {
    "name": "ipython",
    "version": 3
   },
   "file_extension": ".py",
   "mimetype": "text/x-python",
   "name": "python",
   "nbconvert_exporter": "python",
   "pygments_lexer": "ipython3",
   "version": "3.11.4"
  }
 },
 "nbformat": 4,
 "nbformat_minor": 5
}
