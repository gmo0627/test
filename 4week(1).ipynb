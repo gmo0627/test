{
 "cells": [
  {
   "cell_type": "code",
   "execution_count": 1,
   "id": "d156af20",
   "metadata": {},
   "outputs": [
    {
     "name": "stdout",
     "output_type": "stream",
     "text": [
      "P$y$t$h$o$n$"
     ]
    }
   ],
   "source": [
    "#5번\n",
    "ss = 'Python'\n",
    "for i in range(0, len(ss)):\n",
    "    print(ss[i] + '$', end='')"
   ]
  },
  {
   "cell_type": "code",
   "execution_count": 8,
   "id": "3e631540",
   "metadata": {},
   "outputs": [
    {
     "name": "stdout",
     "output_type": "stream",
     "text": [
      "내용을 거꾸로 출력 --> nohtyP\n"
     ]
    }
   ],
   "source": [
    "#9번\n",
    "inStr, outStr = \"Python\", \"\"\n",
    "strLen = len(inStr)\n",
    "\n",
    "for i in range(0, strLen) :\n",
    "       outStr += inStr[-i-1]\n",
    "print(\"내용을 거꾸로 출력 --> %s\" % outStr)\n"
   ]
  },
  {
   "cell_type": "code",
   "execution_count": 13,
   "id": "4f1ce6ff",
   "metadata": {},
   "outputs": [],
   "source": [
    "#나선형 글씨\n",
    "\n",
    "import turtle\n",
    "import random\n",
    "from tkinter.simpledialog import *\n",
    "import math\n",
    "\n",
    "inStr = ''\n",
    "swidth, sheight = 500, 500 # 화면 크기\n",
    "tX, tY, txtSize = 0, 0, 20 # 글자 크기\n",
    "radius = 200 # 반지름\n",
    "\n",
    "turtle.title('거북이 글자쓰기')\n",
    "turtle.shape('turtle')\n",
    "turtle.setup(width=swidth + 50, height=sheight + 50)\n",
    "turtle.screensize(swidth, sheight)\n",
    "turtle.penup()\n",
    "inStr = askstring('문자열 입력', '거북이 쓸 문자열을 입력')\n",
    "angle = 360 * 2 / len(inStr)\n",
    "\n",
    "for ch in inStr:\n",
    "    radian = 3.14 * angle / 180\n",
    "    tX = radius * math.cos(radian)\n",
    "    tY = radius * math.sin(radian)\n",
    "    r = random.random()\n",
    "    g = random.random()\n",
    "    b = random.random()\n",
    "\n",
    "    turtle.goto(tX, tY)\n",
    "    turtle.pencolor((r, g, b))\n",
    "    turtle.write(ch, font=('맑은 고딕', txtSize, 'bold'))\n",
    "    \n",
    "    angle += 360 * 2/ len(inStr)  # 문자와 문자 사이의 회전 각도(한 글자 쓸 때마다 몇 도씩 회전하는가)\n",
    "    radius -= 5 # 반지름이 줄여서 나선형으로 회전하게끔 만듦\n",
    "\n",
    "turtle.done()"
   ]
  }
 ],
 "metadata": {
  "kernelspec": {
   "display_name": "Python 3 (ipykernel)",
   "language": "python",
   "name": "python3"
  },
  "language_info": {
   "codemirror_mode": {
    "name": "ipython",
    "version": 3
   },
   "file_extension": ".py",
   "mimetype": "text/x-python",
   "name": "python",
   "nbconvert_exporter": "python",
   "pygments_lexer": "ipython3",
   "version": "3.11.4"
  }
 },
 "nbformat": 4,
 "nbformat_minor": 5
}
